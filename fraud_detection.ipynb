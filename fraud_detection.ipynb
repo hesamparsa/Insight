{
 "cells": [
  {
   "cell_type": "code",
   "execution_count": 1,
   "metadata": {
    "collapsed": false
   },
   "outputs": [
    {
     "name": "stdout",
     "output_type": "stream",
     "text": [
      "postgres://hesamparsa@localhost/ddvklh47a15s65\n"
     ]
    },
    {
     "name": "stderr",
     "output_type": "stream",
     "text": [
      "/Users/hesamparsa/anaconda/envs/my_projects_env/lib/python3.5/site-packages/sklearn/cross_validation.py:44: DeprecationWarning: This module was deprecated in version 0.18 in favor of the model_selection module into which all the refactored classes and functions are moved. Also note that the interface of the new CV iterators are different from that of this module. This module will be removed in 0.20.\n",
      "  \"This module will be removed in 0.20.\", DeprecationWarning)\n"
     ]
    }
   ],
   "source": [
    "%matplotlib inline\n",
    "from sqlalchemy import create_engine\n",
    "from sqlalchemy_utils import database_exists, create_database\n",
    "import psycopg2\n",
    "import pandas as pd\n",
    "import pymysql as sql\n",
    "import itertools\n",
    "import re\n",
    "import matplotlib\n",
    "import numpy as np\n",
    "import matplotlib.pyplot as plt\n",
    "import networkx as nx\n",
    "import itertools\n",
    "\n",
    "from sklearn.naive_bayes import MultinomialNB\n",
    "from sklearn.neighbors import KNeighborsClassifier\n",
    "from sklearn import metrics\n",
    "from sklearn.cross_validation import train_test_split\n",
    "from sklearn.feature_extraction.text import CountVectorizer\n",
    "from sklearn.feature_extraction.text import TfidfVectorizer\n",
    "from sklearn.feature_extraction.text import TfidfTransformer\n",
    "from sklearn import linear_model\n",
    "\n",
    "#creating the connection to the postgres\n",
    "engine = create_engine('postgres://%s@localhost/%s'%('hesamparsa','ddvklh47a15s65'))  \n",
    "print(engine.url)"
   ]
  },
  {
   "cell_type": "code",
   "execution_count": null,
   "metadata": {
    "collapsed": false
   },
   "outputs": [],
   "source": [
    "# reading Conekta csv file and saving it as conekta_data. This table has the labels for the transactions: (paid or charged-back)\n",
    "conekta = pd.DataFrame.from_csv('conekta.csv')\n",
    "conekta.to_sql('conekta_data', engine, if_exists='replace')"
   ]
  },
  {
   "cell_type": "code",
   "execution_count": 2,
   "metadata": {
    "collapsed": false
   },
   "outputs": [
    {
     "data": {
      "text/html": [
       "<div>\n",
       "<table border=\"1\" class=\"dataframe\">\n",
       "  <thead>\n",
       "    <tr style=\"text-align: right;\">\n",
       "      <th></th>\n",
       "      <th>user_id</th>\n",
       "      <th>Conekta_Transaction_ID</th>\n",
       "      <th>amount</th>\n",
       "      <th>days_on_moneypool</th>\n",
       "      <th>no_of_conections</th>\n",
       "      <th>estatus</th>\n",
       "    </tr>\n",
       "  </thead>\n",
       "  <tbody>\n",
       "    <tr>\n",
       "      <th>0</th>\n",
       "      <td>22568</td>\n",
       "      <td>569a742c19ce886a4b002e0b</td>\n",
       "      <td>3.0</td>\n",
       "      <td>429.397969</td>\n",
       "      <td>90</td>\n",
       "      <td>paid</td>\n",
       "    </tr>\n",
       "    <tr>\n",
       "      <th>1</th>\n",
       "      <td>24651</td>\n",
       "      <td>56abba4419ce88332e000306</td>\n",
       "      <td>3.0</td>\n",
       "      <td>401.498492</td>\n",
       "      <td>213</td>\n",
       "      <td>paid</td>\n",
       "    </tr>\n",
       "    <tr>\n",
       "      <th>2</th>\n",
       "      <td>27157</td>\n",
       "      <td>56b596eb19ce8831bc002f4d</td>\n",
       "      <td>3.0</td>\n",
       "      <td>373.977110</td>\n",
       "      <td>49</td>\n",
       "      <td>paid</td>\n",
       "    </tr>\n",
       "    <tr>\n",
       "      <th>3</th>\n",
       "      <td>31762</td>\n",
       "      <td>56d07729241229706a0020ea</td>\n",
       "      <td>3.0</td>\n",
       "      <td>347.335360</td>\n",
       "      <td>3</td>\n",
       "      <td>paid</td>\n",
       "    </tr>\n",
       "    <tr>\n",
       "      <th>4</th>\n",
       "      <td>47151</td>\n",
       "      <td>56df612919ce88e27a004579</td>\n",
       "      <td>3.0</td>\n",
       "      <td>336.033776</td>\n",
       "      <td>2</td>\n",
       "      <td>paid</td>\n",
       "    </tr>\n",
       "  </tbody>\n",
       "</table>\n",
       "</div>"
      ],
      "text/plain": [
       "   user_id    Conekta_Transaction_ID  amount  days_on_moneypool  \\\n",
       "0    22568  569a742c19ce886a4b002e0b     3.0         429.397969   \n",
       "1    24651  56abba4419ce88332e000306     3.0         401.498492   \n",
       "2    27157  56b596eb19ce8831bc002f4d     3.0         373.977110   \n",
       "3    31762  56d07729241229706a0020ea     3.0         347.335360   \n",
       "4    47151  56df612919ce88e27a004579     3.0         336.033776   \n",
       "\n",
       "   no_of_conections estatus  \n",
       "0                90    paid  \n",
       "1               213    paid  \n",
       "2                49    paid  \n",
       "3                 3    paid  \n",
       "4                 2    paid  "
      ]
     },
     "execution_count": 2,
     "metadata": {},
     "output_type": "execute_result"
    }
   ],
   "source": [
    "# Quering the first part of the modeling data for each transaction over years 2016\n",
    "# note that every user can have multiple transactions\n",
    "# X: amount, days_on_moneypool, no_of_conections, estatus y: estatus\n",
    "con = psycopg2.connect(database = 'ddvklh47a15s65' , user = 'hesamparsa')\n",
    "sql_query = '''\n",
    "SELECT     \n",
    "    payments.user_id AS user_id,\n",
    "    conekta_data.id_cargo AS \"Conekta_Transaction_ID\",\n",
    "    conekta_data.monto_cargo AS amount,\n",
    "    (EXTRACT (epoch FROM age(users.created_at))/(60*60*24)) AS days_on_moneypool,\n",
    "    COUNT (friendships.user_id) AS no_of_conections,\n",
    "    conekta_data.estatus  \n",
    "FROM\n",
    "    payments\n",
    "    INNER JOIN conekta_data ON payments.conekta_id = conekta_data.id_cargo\n",
    "    INNER JOIN users ON payments.user_id = users.id\n",
    "    LEFT JOIN friendships ON payments.user_id = friendships.user_id\n",
    "WHERE\n",
    "    payments.created_at BETWEEN '2016-01-01T06:00:00+00:00' AND '2017-01-01T05:59:59+00:00' \n",
    "GROUP BY\n",
    "    conekta_data.monto_cargo,\n",
    "    conekta_data.estatus, \n",
    "    conekta_data.id_cargo, \n",
    "    payments.conekta_id, \n",
    "    users.created_at,\n",
    "    payments.user_id,\n",
    "    users.id\n",
    ";'''\n",
    "\n",
    "first=pd.read_sql_query(sql_query,con)\n",
    "first.head()"
   ]
  },
  {
   "cell_type": "code",
   "execution_count": 3,
   "metadata": {
    "collapsed": false
   },
   "outputs": [
    {
     "data": {
      "text/html": [
       "<div>\n",
       "<table border=\"1\" class=\"dataframe\">\n",
       "  <thead>\n",
       "    <tr style=\"text-align: right;\">\n",
       "      <th></th>\n",
       "      <th>user_id</th>\n",
       "      <th>result</th>\n",
       "      <th>amount</th>\n",
       "      <th>days_on_moneypool</th>\n",
       "      <th>no_of_conections</th>\n",
       "    </tr>\n",
       "  </thead>\n",
       "  <tbody>\n",
       "    <tr>\n",
       "      <th>0</th>\n",
       "      <td>5</td>\n",
       "      <td>0</td>\n",
       "      <td>25.75</td>\n",
       "      <td>1180.042712</td>\n",
       "      <td>25</td>\n",
       "    </tr>\n",
       "    <tr>\n",
       "      <th>1</th>\n",
       "      <td>12</td>\n",
       "      <td>0</td>\n",
       "      <td>4256.51</td>\n",
       "      <td>1178.485204</td>\n",
       "      <td>501</td>\n",
       "    </tr>\n",
       "    <tr>\n",
       "      <th>2</th>\n",
       "      <td>15</td>\n",
       "      <td>0</td>\n",
       "      <td>10955.85</td>\n",
       "      <td>1177.784936</td>\n",
       "      <td>524</td>\n",
       "    </tr>\n",
       "    <tr>\n",
       "      <th>3</th>\n",
       "      <td>16</td>\n",
       "      <td>0</td>\n",
       "      <td>617.40</td>\n",
       "      <td>1177.784737</td>\n",
       "      <td>25</td>\n",
       "    </tr>\n",
       "    <tr>\n",
       "      <th>4</th>\n",
       "      <td>17</td>\n",
       "      <td>0</td>\n",
       "      <td>9136.92</td>\n",
       "      <td>1176.756805</td>\n",
       "      <td>251</td>\n",
       "    </tr>\n",
       "  </tbody>\n",
       "</table>\n",
       "</div>"
      ],
      "text/plain": [
       "   user_id  result    amount  days_on_moneypool  no_of_conections\n",
       "0        5       0     25.75        1180.042712                25\n",
       "1       12       0   4256.51        1178.485204               501\n",
       "2       15       0  10955.85        1177.784936               524\n",
       "3       16       0    617.40        1177.784737                25\n",
       "4       17       0   9136.92        1176.756805               251"
      ]
     },
     "execution_count": 3,
     "metadata": {},
     "output_type": "execute_result"
    }
   ],
   "source": [
    "# Changing the status label to numeric values:\n",
    "first['result']=first.estatus.map({'paid':0,'charged_back':1, 'refunded':2, 'partially_refunded':3, \n",
    "                                   'pending_payment':4})\n",
    "#we only care about: paid,charged_back:\n",
    "first = first[(first.result == 0) | (first.result == 1)]\n",
    "\n",
    "# Here we have 64236 transactions from 25843 unique users.\n",
    "# we calculate the sum of all amounts paid by users over multiple transactions\n",
    "# and if a user transaction once labeled as charged back we consider that. \n",
    "first1=first.groupby(['user_id']).agg({'amount': 'sum', 'days_on_moneypool':'max', 'no_of_conections':'max',\n",
    "                                       'result': 'max'}).reset_index()\n",
    "first1.head()"
   ]
  },
  {
   "cell_type": "code",
   "execution_count": 4,
   "metadata": {
    "collapsed": false
   },
   "outputs": [
    {
     "data": {
      "text/plain": [
       "0    25302\n",
       "1      541\n",
       "Name: result, dtype: int64"
      ]
     },
     "execution_count": 4,
     "metadata": {},
     "output_type": "execute_result"
    }
   ],
   "source": [
    "# We have 25302 regular users and 541 fraudsters\n",
    "first1.result.value_counts()"
   ]
  },
  {
   "cell_type": "code",
   "execution_count": 5,
   "metadata": {
    "collapsed": false
   },
   "outputs": [
    {
     "data": {
      "text/html": [
       "<div>\n",
       "<table border=\"1\" class=\"dataframe\">\n",
       "  <thead>\n",
       "    <tr style=\"text-align: right;\">\n",
       "      <th></th>\n",
       "      <th>user_id</th>\n",
       "      <th>receiver_id</th>\n",
       "      <th>amount</th>\n",
       "      <th>created_at</th>\n",
       "      <th>total_attempt</th>\n",
       "    </tr>\n",
       "  </thead>\n",
       "  <tbody>\n",
       "    <tr>\n",
       "      <th>0</th>\n",
       "      <td>5</td>\n",
       "      <td>14989</td>\n",
       "      <td>25.0</td>\n",
       "      <td>2016-07-01</td>\n",
       "      <td>1</td>\n",
       "    </tr>\n",
       "    <tr>\n",
       "      <th>1</th>\n",
       "      <td>12</td>\n",
       "      <td>374</td>\n",
       "      <td>300.0</td>\n",
       "      <td>2016-12-06</td>\n",
       "      <td>1</td>\n",
       "    </tr>\n",
       "    <tr>\n",
       "      <th>2</th>\n",
       "      <td>12</td>\n",
       "      <td>467</td>\n",
       "      <td>290.0</td>\n",
       "      <td>2016-12-16</td>\n",
       "      <td>1</td>\n",
       "    </tr>\n",
       "    <tr>\n",
       "      <th>3</th>\n",
       "      <td>12</td>\n",
       "      <td>522</td>\n",
       "      <td>212.0</td>\n",
       "      <td>2016-12-22</td>\n",
       "      <td>1</td>\n",
       "    </tr>\n",
       "    <tr>\n",
       "      <th>4</th>\n",
       "      <td>12</td>\n",
       "      <td>7665</td>\n",
       "      <td>50.0</td>\n",
       "      <td>2016-01-20</td>\n",
       "      <td>1</td>\n",
       "    </tr>\n",
       "  </tbody>\n",
       "</table>\n",
       "</div>"
      ],
      "text/plain": [
       "   user_id  receiver_id  amount  created_at  total_attempt\n",
       "0        5        14989    25.0  2016-07-01              1\n",
       "1       12          374   300.0  2016-12-06              1\n",
       "2       12          467   290.0  2016-12-16              1\n",
       "3       12          522   212.0  2016-12-22              1\n",
       "4       12         7665    50.0  2016-01-20              1"
      ]
     },
     "execution_count": 5,
     "metadata": {},
     "output_type": "execute_result"
    }
   ],
   "source": [
    "#Quering the second part of the modeling data: How many times the user tried to use a credit card censecutively (make a payment)\n",
    "con = psycopg2.connect(database = 'ddvklh47a15s65' , user = 'hesamparsa')\n",
    "\n",
    "sql_query = '''\n",
    "SELECT  user_id, receiver_id, amount, cast(created_at as date), COUNT(*) AS total_attempt\n",
    "FROM payments\n",
    "WHERE payments.created_at BETWEEN '2016-01-01T06:00:00+00:00' AND '2017-01-01T05:59:59+00:00' \n",
    "GROUP BY user_id, receiver_id, amount, cast(created_at as date)\n",
    ";'''\n",
    "\n",
    "sec=pd.read_sql_query(sql_query,con)\n",
    "sec.head()"
   ]
  },
  {
   "cell_type": "code",
   "execution_count": 6,
   "metadata": {
    "collapsed": false
   },
   "outputs": [
    {
     "data": {
      "text/html": [
       "<div>\n",
       "<table border=\"1\" class=\"dataframe\">\n",
       "  <thead>\n",
       "    <tr style=\"text-align: right;\">\n",
       "      <th></th>\n",
       "      <th>user_id</th>\n",
       "      <th>total_attempt</th>\n",
       "    </tr>\n",
       "  </thead>\n",
       "  <tbody>\n",
       "    <tr>\n",
       "      <th>0</th>\n",
       "      <td>5</td>\n",
       "      <td>1</td>\n",
       "    </tr>\n",
       "    <tr>\n",
       "      <th>1</th>\n",
       "      <td>12</td>\n",
       "      <td>1</td>\n",
       "    </tr>\n",
       "    <tr>\n",
       "      <th>2</th>\n",
       "      <td>15</td>\n",
       "      <td>4</td>\n",
       "    </tr>\n",
       "    <tr>\n",
       "      <th>3</th>\n",
       "      <td>16</td>\n",
       "      <td>1</td>\n",
       "    </tr>\n",
       "    <tr>\n",
       "      <th>4</th>\n",
       "      <td>17</td>\n",
       "      <td>1</td>\n",
       "    </tr>\n",
       "  </tbody>\n",
       "</table>\n",
       "</div>"
      ],
      "text/plain": [
       "   user_id  total_attempt\n",
       "0        5              1\n",
       "1       12              1\n",
       "2       15              4\n",
       "3       16              1\n",
       "4       17              1"
      ]
     },
     "execution_count": 6,
     "metadata": {},
     "output_type": "execute_result"
    }
   ],
   "source": [
    "# Find the maximum of total_attempt\n",
    "sec1 = sec['total_attempt'].groupby(sec['user_id']).max().reset_index()\n",
    "sec1.head()"
   ]
  },
  {
   "cell_type": "code",
   "execution_count": 7,
   "metadata": {
    "collapsed": false
   },
   "outputs": [
    {
     "data": {
      "text/html": [
       "<div>\n",
       "<table border=\"1\" class=\"dataframe\">\n",
       "  <thead>\n",
       "    <tr style=\"text-align: right;\">\n",
       "      <th></th>\n",
       "      <th>user_id</th>\n",
       "      <th>card_updated_time_diff</th>\n",
       "    </tr>\n",
       "  </thead>\n",
       "  <tbody>\n",
       "    <tr>\n",
       "      <th>0</th>\n",
       "      <td>277174</td>\n",
       "      <td>0.0</td>\n",
       "    </tr>\n",
       "    <tr>\n",
       "      <th>1</th>\n",
       "      <td>269669</td>\n",
       "      <td>0.0</td>\n",
       "    </tr>\n",
       "    <tr>\n",
       "      <th>2</th>\n",
       "      <td>253035</td>\n",
       "      <td>36.0</td>\n",
       "    </tr>\n",
       "    <tr>\n",
       "      <th>3</th>\n",
       "      <td>267563</td>\n",
       "      <td>0.0</td>\n",
       "    </tr>\n",
       "    <tr>\n",
       "      <th>4</th>\n",
       "      <td>25499</td>\n",
       "      <td>264.0</td>\n",
       "    </tr>\n",
       "  </tbody>\n",
       "</table>\n",
       "</div>"
      ],
      "text/plain": [
       "   user_id  card_updated_time_diff\n",
       "0   277174                     0.0\n",
       "1   269669                     0.0\n",
       "2   253035                    36.0\n",
       "3   267563                     0.0\n",
       "4    25499                   264.0"
      ]
     },
     "execution_count": 7,
     "metadata": {},
     "output_type": "execute_result"
    }
   ],
   "source": [
    "#Quering the third part of the modeling data: \n",
    "#This is the time interval between when a user created an account and when s/he updated his/her credit card information\n",
    "con = psycopg2.connect(database = 'ddvklh47a15s65' , user = 'hesamparsa')\n",
    "sql_query = '''\n",
    "SELECT     \n",
    "    cards.user_id,\n",
    "    extract(day FROM cards.updated_at-users.created_at) AS card_updated_time_diff\n",
    "\n",
    "FROM\n",
    "    cards\n",
    "    INNER JOIN users ON cards.user_id = users.id\n",
    "    INNER JOIN payments ON payments.user_id=cards.user_id\n",
    "    \n",
    "WHERE\n",
    "    payments.created_at BETWEEN '2016-01-01T06:00:00+00:00' AND '2017-01-01T05:59:59+00:00' \n",
    "GROUP BY\n",
    "    cards.user_id,\n",
    "    cards.updated_at,\n",
    "    users.id\n",
    ";'''\n",
    "\n",
    "third=pd.read_sql_query(sql_query,con)\n",
    "third.head()"
   ]
  },
  {
   "cell_type": "code",
   "execution_count": 8,
   "metadata": {
    "collapsed": false
   },
   "outputs": [
    {
     "data": {
      "text/plain": [
       "(26031, 2)"
      ]
     },
     "execution_count": 8,
     "metadata": {},
     "output_type": "execute_result"
    }
   ],
   "source": [
    "# This line finds the maximum of card_updated_time_diff for each user\n",
    "third1 = third['card_updated_time_diff'].groupby(third['user_id']).max().reset_index()\n",
    "third1.shape"
   ]
  },
  {
   "cell_type": "code",
   "execution_count": 9,
   "metadata": {
    "collapsed": false
   },
   "outputs": [
    {
     "data": {
      "text/html": [
       "<div>\n",
       "<table border=\"1\" class=\"dataframe\">\n",
       "  <thead>\n",
       "    <tr style=\"text-align: right;\">\n",
       "      <th></th>\n",
       "      <th>user_id</th>\n",
       "      <th>pool_id</th>\n",
       "    </tr>\n",
       "  </thead>\n",
       "  <tbody>\n",
       "    <tr>\n",
       "      <th>0</th>\n",
       "      <td>12797</td>\n",
       "      <td>8016</td>\n",
       "    </tr>\n",
       "    <tr>\n",
       "      <th>1</th>\n",
       "      <td>199355</td>\n",
       "      <td>14000</td>\n",
       "    </tr>\n",
       "    <tr>\n",
       "      <th>2</th>\n",
       "      <td>480</td>\n",
       "      <td>26662</td>\n",
       "    </tr>\n",
       "    <tr>\n",
       "      <th>3</th>\n",
       "      <td>2214</td>\n",
       "      <td>22759</td>\n",
       "    </tr>\n",
       "    <tr>\n",
       "      <th>4</th>\n",
       "      <td>20521</td>\n",
       "      <td>6013</td>\n",
       "    </tr>\n",
       "  </tbody>\n",
       "</table>\n",
       "</div>"
      ],
      "text/plain": [
       "   user_id  pool_id\n",
       "0    12797     8016\n",
       "1   199355    14000\n",
       "2      480    26662\n",
       "3     2214    22759\n",
       "4    20521     6013"
      ]
     },
     "execution_count": 9,
     "metadata": {},
     "output_type": "execute_result"
    }
   ],
   "source": [
    "con = psycopg2.connect(database = 'ddvklh47a15s65' , user = 'hesamparsa')\n",
    "sql_query = '''\n",
    "SELECT     \n",
    "    liabilities.user_id, \n",
    "    liabilities.pool_id\n",
    "FROM\n",
    "    liabilities\n",
    "    INNER JOIN payments ON payments.user_id=liabilities.user_id\n",
    "WHERE\n",
    "    (payments.created_at BETWEEN '2016-01-01T06:00:00+00:00' AND '2017-01-01T05:59:59+00:00') AND \n",
    "    admin = 'True'\n",
    "GROUP BY\n",
    "    liabilities.user_id, \n",
    "    liabilities.pool_id\n",
    ";'''\n",
    "fourth=pd.read_sql_query(sql_query,con)\n",
    "fourth.head()"
   ]
  },
  {
   "cell_type": "code",
   "execution_count": 10,
   "metadata": {
    "collapsed": false
   },
   "outputs": [
    {
     "data": {
      "text/plain": [
       "(6290, 2)"
      ]
     },
     "execution_count": 10,
     "metadata": {},
     "output_type": "execute_result"
    }
   ],
   "source": [
    "#fourth=fourth.drop_duplicates()\n",
    "fourth1=fourth.groupby('user_id').count().reset_index()\n",
    "fourth2=fourth1.rename(columns={'pool_id': 'no_pool_admin'})\n",
    "fourth2.shape"
   ]
  },
  {
   "cell_type": "code",
   "execution_count": 11,
   "metadata": {
    "collapsed": true
   },
   "outputs": [],
   "source": [
    "#Quering the fifth part of the modeling data: \n",
    "#This is the time interval between when a payment is made and when s/he withdraw money to his/her bank account\n",
    "\n",
    "con = psycopg2.connect(database = 'ddvklh47a15s65' , user = 'hesamparsa')\n",
    "sql_query = '''\n",
    "SELECT     \n",
    "    payments.user_id,\n",
    "    extract(days FROM bank_withdrawals.updated_at-payments.created_at) AS withdraw_payment_date_diff\n",
    "FROM\n",
    "    payments\n",
    "    INNER JOIN bank_withdrawals ON bank_withdrawals.user_id = payments.user_id \n",
    "    INNER JOIN users ON users.id = payments.user_id \n",
    "        \n",
    "WHERE\n",
    "    (payments.created_at BETWEEN '2016-01-01T06:00:00+00:00' AND '2017-01-01T05:59:59+00:00') \n",
    "    \n",
    "GROUP BY\n",
    "    bank_withdrawals.user_id,\n",
    "    bank_withdrawals.updated_at,\n",
    "    payments.user_id,\n",
    "    payments.created_at\n",
    ";'''\n",
    "\n",
    "fifth=pd.read_sql_query(sql_query,con)\n"
   ]
  },
  {
   "cell_type": "code",
   "execution_count": 12,
   "metadata": {
    "collapsed": false
   },
   "outputs": [],
   "source": [
    "# Here we count the number of times that withdraw_payment_date_diff is within 3 hrs\n",
    "fifth['withdraw_payment_date_diff_t'] = fifth['withdraw_payment_date_diff'].apply(lambda x: 0 if ((x <= 0) | (x>=3)) else 1)\n",
    "fifth1 = fifth['withdraw_payment_date_diff_t'].groupby(fifth['user_id']).count().reset_index()  #this was max orginaly and 3 hr\n",
    "#fifth1.withdraw_payment_date_diff_t.value_counts()\n",
    "#fifth1.sample(100)"
   ]
  },
  {
   "cell_type": "code",
   "execution_count": 13,
   "metadata": {
    "collapsed": false
   },
   "outputs": [
    {
     "data": {
      "text/html": [
       "<div>\n",
       "<table border=\"1\" class=\"dataframe\">\n",
       "  <thead>\n",
       "    <tr style=\"text-align: right;\">\n",
       "      <th></th>\n",
       "      <th>pool_id</th>\n",
       "      <th>pool_age</th>\n",
       "    </tr>\n",
       "  </thead>\n",
       "  <tbody>\n",
       "    <tr>\n",
       "      <th>0</th>\n",
       "      <td>8789</td>\n",
       "      <td>351.229496</td>\n",
       "    </tr>\n",
       "    <tr>\n",
       "      <th>1</th>\n",
       "      <td>5032</td>\n",
       "      <td>458.489020</td>\n",
       "    </tr>\n",
       "    <tr>\n",
       "      <th>2</th>\n",
       "      <td>8113</td>\n",
       "      <td>377.245292</td>\n",
       "    </tr>\n",
       "    <tr>\n",
       "      <th>3</th>\n",
       "      <td>11659</td>\n",
       "      <td>300.163550</td>\n",
       "    </tr>\n",
       "    <tr>\n",
       "      <th>4</th>\n",
       "      <td>13891</td>\n",
       "      <td>248.353066</td>\n",
       "    </tr>\n",
       "  </tbody>\n",
       "</table>\n",
       "</div>"
      ],
      "text/plain": [
       "   pool_id    pool_age\n",
       "0     8789  351.229496\n",
       "1     5032  458.489020\n",
       "2     8113  377.245292\n",
       "3    11659  300.163550\n",
       "4    13891  248.353066"
      ]
     },
     "execution_count": 13,
     "metadata": {},
     "output_type": "execute_result"
    }
   ],
   "source": [
    "#Here we calculate pool age in days\n",
    "con = psycopg2.connect(database = 'ddvklh47a15s65' , user = 'hesamparsa')\n",
    "sql_query = '''\n",
    "Select\n",
    "    pool_id,\n",
    "    (EXTRACT (epoch FROM age(pools.created_at))/(60*60*24)) AS \"pool_age\"\n",
    "FROM\n",
    "    liabilities\n",
    "    INNER JOIN pools on pools.id = liabilities.pool_id\n",
    ";'''\n",
    "\n",
    "pools_age=pd.read_sql_query(sql_query,con)\n",
    "pools_age.head()"
   ]
  },
  {
   "cell_type": "code",
   "execution_count": 14,
   "metadata": {
    "collapsed": false
   },
   "outputs": [
    {
     "data": {
      "text/plain": [
       "(137295, 2)"
      ]
     },
     "execution_count": 14,
     "metadata": {},
     "output_type": "execute_result"
    }
   ],
   "source": [
    "pools_age.shape"
   ]
  },
  {
   "cell_type": "code",
   "execution_count": 15,
   "metadata": {
    "collapsed": false
   },
   "outputs": [
    {
     "data": {
      "text/html": [
       "<div>\n",
       "<table border=\"1\" class=\"dataframe\">\n",
       "  <thead>\n",
       "    <tr style=\"text-align: right;\">\n",
       "      <th></th>\n",
       "      <th>pool_id</th>\n",
       "      <th>user_id</th>\n",
       "      <th>user_age</th>\n",
       "    </tr>\n",
       "  </thead>\n",
       "  <tbody>\n",
       "    <tr>\n",
       "      <th>0</th>\n",
       "      <td>8789</td>\n",
       "      <td>1575</td>\n",
       "      <td>864.781687</td>\n",
       "    </tr>\n",
       "    <tr>\n",
       "      <th>1</th>\n",
       "      <td>5032</td>\n",
       "      <td>22718</td>\n",
       "      <td>428.491449</td>\n",
       "    </tr>\n",
       "    <tr>\n",
       "      <th>2</th>\n",
       "      <td>8113</td>\n",
       "      <td>23606</td>\n",
       "      <td>423.243784</td>\n",
       "    </tr>\n",
       "    <tr>\n",
       "      <th>3</th>\n",
       "      <td>13891</td>\n",
       "      <td>19721</td>\n",
       "      <td>445.285562</td>\n",
       "    </tr>\n",
       "    <tr>\n",
       "      <th>4</th>\n",
       "      <td>13560</td>\n",
       "      <td>198143</td>\n",
       "      <td>247.092877</td>\n",
       "    </tr>\n",
       "  </tbody>\n",
       "</table>\n",
       "</div>"
      ],
      "text/plain": [
       "   pool_id  user_id    user_age\n",
       "0     8789     1575  864.781687\n",
       "1     5032    22718  428.491449\n",
       "2     8113    23606  423.243784\n",
       "3    13891    19721  445.285562\n",
       "4    13560   198143  247.092877"
      ]
     },
     "execution_count": 15,
     "metadata": {},
     "output_type": "execute_result"
    }
   ],
   "source": [
    "# Here we calculate the age of the users in all of the pools\n",
    "con = psycopg2.connect(database = 'ddvklh47a15s65' , user = 'hesamparsa')\n",
    "sql_query = '''\n",
    "Select\n",
    "    pool_id,\n",
    "    user_id,\n",
    "    (EXTRACT (epoch FROM age(users.created_at))/(60*60*24)) AS \"user_age\"\n",
    "FROM\n",
    "    liabilities\n",
    "    INNER JOIN users on users.id = liabilities.user_id\n",
    ";'''\n",
    "\n",
    "pools_user_age=pd.read_sql_query(sql_query,con)\n",
    "pools_user_age.head()"
   ]
  },
  {
   "cell_type": "code",
   "execution_count": 16,
   "metadata": {
    "collapsed": false
   },
   "outputs": [
    {
     "data": {
      "text/plain": [
       "(137295, 3)"
      ]
     },
     "execution_count": 16,
     "metadata": {},
     "output_type": "execute_result"
    }
   ],
   "source": [
    "pools_user_age.shape"
   ]
  },
  {
   "cell_type": "code",
   "execution_count": 17,
   "metadata": {
    "collapsed": false
   },
   "outputs": [
    {
     "data": {
      "text/plain": [
       "(27781, 2)"
      ]
     },
     "execution_count": 17,
     "metadata": {},
     "output_type": "execute_result"
    }
   ],
   "source": [
    "#Here we calculate the median of user age for each pool\n",
    "pools_user_age1=pools_user_age.groupby('pool_id')['user_age'].median().reset_index()\n",
    "pools_user_age1 = pools_user_age1.rename(columns={'user_age': 'median_users_age'})\n",
    "pools_user_age1.shape"
   ]
  },
  {
   "cell_type": "code",
   "execution_count": 18,
   "metadata": {
    "collapsed": false
   },
   "outputs": [
    {
     "data": {
      "text/html": [
       "<div>\n",
       "<table border=\"1\" class=\"dataframe\">\n",
       "  <thead>\n",
       "    <tr style=\"text-align: right;\">\n",
       "      <th></th>\n",
       "      <th>pool_id</th>\n",
       "      <th>pool_age</th>\n",
       "      <th>median_users_age</th>\n",
       "    </tr>\n",
       "  </thead>\n",
       "  <tbody>\n",
       "    <tr>\n",
       "      <th>112747</th>\n",
       "      <td>7750</td>\n",
       "      <td>388.546993</td>\n",
       "      <td>689.591539</td>\n",
       "    </tr>\n",
       "    <tr>\n",
       "      <th>54364</th>\n",
       "      <td>22164</td>\n",
       "      <td>109.240371</td>\n",
       "      <td>103.339460</td>\n",
       "    </tr>\n",
       "    <tr>\n",
       "      <th>55016</th>\n",
       "      <td>11182</td>\n",
       "      <td>309.166694</td>\n",
       "      <td>309.131077</td>\n",
       "    </tr>\n",
       "    <tr>\n",
       "      <th>27603</th>\n",
       "      <td>21859</td>\n",
       "      <td>113.227931</td>\n",
       "      <td>261.232104</td>\n",
       "    </tr>\n",
       "    <tr>\n",
       "      <th>126770</th>\n",
       "      <td>22684</td>\n",
       "      <td>102.184827</td>\n",
       "      <td>438.269045</td>\n",
       "    </tr>\n",
       "    <tr>\n",
       "      <th>58918</th>\n",
       "      <td>19458</td>\n",
       "      <td>151.962407</td>\n",
       "      <td>637.124455</td>\n",
       "    </tr>\n",
       "    <tr>\n",
       "      <th>87223</th>\n",
       "      <td>1511</td>\n",
       "      <td>596.325628</td>\n",
       "      <td>596.015457</td>\n",
       "    </tr>\n",
       "    <tr>\n",
       "      <th>590</th>\n",
       "      <td>5032</td>\n",
       "      <td>458.489020</td>\n",
       "      <td>428.435154</td>\n",
       "    </tr>\n",
       "    <tr>\n",
       "      <th>134583</th>\n",
       "      <td>26955</td>\n",
       "      <td>54.220175</td>\n",
       "      <td>432.543719</td>\n",
       "    </tr>\n",
       "    <tr>\n",
       "      <th>113274</th>\n",
       "      <td>7899</td>\n",
       "      <td>383.550933</td>\n",
       "      <td>485.352055</td>\n",
       "    </tr>\n",
       "  </tbody>\n",
       "</table>\n",
       "</div>"
      ],
      "text/plain": [
       "        pool_id    pool_age  median_users_age\n",
       "112747     7750  388.546993        689.591539\n",
       "54364     22164  109.240371        103.339460\n",
       "55016     11182  309.166694        309.131077\n",
       "27603     21859  113.227931        261.232104\n",
       "126770    22684  102.184827        438.269045\n",
       "58918     19458  151.962407        637.124455\n",
       "87223      1511  596.325628        596.015457\n",
       "590        5032  458.489020        428.435154\n",
       "134583    26955   54.220175        432.543719\n",
       "113274     7899  383.550933        485.352055"
      ]
     },
     "execution_count": 18,
     "metadata": {},
     "output_type": "execute_result"
    }
   ],
   "source": [
    "pool = pd.merge(pools_age,pools_user_age1, how='left', on=['pool_id']).fillna(0)\n",
    "pool.sample(10)"
   ]
  },
  {
   "cell_type": "code",
   "execution_count": 19,
   "metadata": {
    "collapsed": false
   },
   "outputs": [
    {
     "data": {
      "text/plain": [
       "(137295, 3)"
      ]
     },
     "execution_count": 19,
     "metadata": {},
     "output_type": "execute_result"
    }
   ],
   "source": [
    "pool.shape"
   ]
  },
  {
   "cell_type": "code",
   "execution_count": 20,
   "metadata": {
    "collapsed": false
   },
   "outputs": [
    {
     "data": {
      "text/html": [
       "<div>\n",
       "<table border=\"1\" class=\"dataframe\">\n",
       "  <thead>\n",
       "    <tr style=\"text-align: right;\">\n",
       "      <th></th>\n",
       "      <th>user_id</th>\n",
       "      <th>pool_id</th>\n",
       "    </tr>\n",
       "  </thead>\n",
       "  <tbody>\n",
       "    <tr>\n",
       "      <th>0</th>\n",
       "      <td>28494</td>\n",
       "      <td>8892</td>\n",
       "    </tr>\n",
       "    <tr>\n",
       "      <th>1</th>\n",
       "      <td>171284</td>\n",
       "      <td>13169</td>\n",
       "    </tr>\n",
       "    <tr>\n",
       "      <th>2</th>\n",
       "      <td>28531</td>\n",
       "      <td>23694</td>\n",
       "    </tr>\n",
       "    <tr>\n",
       "      <th>3</th>\n",
       "      <td>37</td>\n",
       "      <td>6497</td>\n",
       "    </tr>\n",
       "    <tr>\n",
       "      <th>4</th>\n",
       "      <td>3006</td>\n",
       "      <td>21892</td>\n",
       "    </tr>\n",
       "  </tbody>\n",
       "</table>\n",
       "</div>"
      ],
      "text/plain": [
       "   user_id  pool_id\n",
       "0    28494     8892\n",
       "1   171284    13169\n",
       "2    28531    23694\n",
       "3       37     6497\n",
       "4     3006    21892"
      ]
     },
     "execution_count": 20,
     "metadata": {},
     "output_type": "execute_result"
    }
   ],
   "source": [
    "# Here using a liability table, we find which user belongs to which pool\n",
    "con = psycopg2.connect(database = 'ddvklh47a15s65' , user = 'hesamparsa')\n",
    "sql_query = '''\n",
    "Select\n",
    "    user_id,\n",
    "    pool_id\n",
    "FROM\n",
    "    liabilities\n",
    "GROUP BY\n",
    "    liabilities.user_id,\n",
    "    pool_id\n",
    ";'''\n",
    "\n",
    "liabil=pd.read_sql_query(sql_query,con)\n",
    "liabil.head()"
   ]
  },
  {
   "cell_type": "code",
   "execution_count": 21,
   "metadata": {
    "collapsed": false
   },
   "outputs": [
    {
     "data": {
      "text/plain": [
       "(137295, 3)"
      ]
     },
     "execution_count": 21,
     "metadata": {},
     "output_type": "execute_result"
    }
   ],
   "source": [
    "pool.shape"
   ]
  },
  {
   "cell_type": "code",
   "execution_count": 22,
   "metadata": {
    "collapsed": false
   },
   "outputs": [
    {
     "data": {
      "text/html": [
       "<div>\n",
       "<table border=\"1\" class=\"dataframe\">\n",
       "  <thead>\n",
       "    <tr style=\"text-align: right;\">\n",
       "      <th></th>\n",
       "      <th>user_id</th>\n",
       "      <th>pool_id</th>\n",
       "      <th>pool_age</th>\n",
       "      <th>median_users_age</th>\n",
       "    </tr>\n",
       "  </thead>\n",
       "  <tbody>\n",
       "    <tr>\n",
       "      <th>0</th>\n",
       "      <td>28494</td>\n",
       "      <td>8892</td>\n",
       "      <td>349.991557</td>\n",
       "      <td>349.998232</td>\n",
       "    </tr>\n",
       "    <tr>\n",
       "      <th>1</th>\n",
       "      <td>171284</td>\n",
       "      <td>13169</td>\n",
       "      <td>267.158057</td>\n",
       "      <td>300.600851</td>\n",
       "    </tr>\n",
       "    <tr>\n",
       "      <th>2</th>\n",
       "      <td>171284</td>\n",
       "      <td>13169</td>\n",
       "      <td>267.158057</td>\n",
       "      <td>300.600851</td>\n",
       "    </tr>\n",
       "    <tr>\n",
       "      <th>3</th>\n",
       "      <td>28531</td>\n",
       "      <td>23694</td>\n",
       "      <td>89.137490</td>\n",
       "      <td>341.134937</td>\n",
       "    </tr>\n",
       "    <tr>\n",
       "      <th>4</th>\n",
       "      <td>28531</td>\n",
       "      <td>23694</td>\n",
       "      <td>89.137490</td>\n",
       "      <td>341.134937</td>\n",
       "    </tr>\n",
       "  </tbody>\n",
       "</table>\n",
       "</div>"
      ],
      "text/plain": [
       "   user_id  pool_id    pool_age  median_users_age\n",
       "0    28494     8892  349.991557        349.998232\n",
       "1   171284    13169  267.158057        300.600851\n",
       "2   171284    13169  267.158057        300.600851\n",
       "3    28531    23694   89.137490        341.134937\n",
       "4    28531    23694   89.137490        341.134937"
      ]
     },
     "execution_count": 22,
     "metadata": {},
     "output_type": "execute_result"
    }
   ],
   "source": [
    "liabil_full = pd.merge(liabil,pool, how='left', on=['pool_id']).fillna(0)\n",
    "liabil_full.head()"
   ]
  },
  {
   "cell_type": "code",
   "execution_count": 23,
   "metadata": {
    "collapsed": false
   },
   "outputs": [
    {
     "data": {
      "text/plain": [
       "(5224051, 4)"
      ]
     },
     "execution_count": 23,
     "metadata": {},
     "output_type": "execute_result"
    }
   ],
   "source": [
    "liabil_full.shape"
   ]
  },
  {
   "cell_type": "code",
   "execution_count": 24,
   "metadata": {
    "collapsed": false
   },
   "outputs": [
    {
     "data": {
      "text/html": [
       "<div>\n",
       "<table border=\"1\" class=\"dataframe\">\n",
       "  <thead>\n",
       "    <tr style=\"text-align: right;\">\n",
       "      <th></th>\n",
       "      <th>user_id</th>\n",
       "      <th>median_pool_age</th>\n",
       "      <th>median_median_users_age</th>\n",
       "      <th>no_of_pool</th>\n",
       "    </tr>\n",
       "  </thead>\n",
       "  <tbody>\n",
       "    <tr>\n",
       "      <th>0</th>\n",
       "      <td>1</td>\n",
       "      <td>608.513609</td>\n",
       "      <td>1166.570804</td>\n",
       "      <td>33</td>\n",
       "    </tr>\n",
       "    <tr>\n",
       "      <th>1</th>\n",
       "      <td>2</td>\n",
       "      <td>996.601809</td>\n",
       "      <td>995.178841</td>\n",
       "      <td>721</td>\n",
       "    </tr>\n",
       "    <tr>\n",
       "      <th>2</th>\n",
       "      <td>3</td>\n",
       "      <td>1124.764204</td>\n",
       "      <td>1165.762237</td>\n",
       "      <td>12</td>\n",
       "    </tr>\n",
       "    <tr>\n",
       "      <th>3</th>\n",
       "      <td>5</td>\n",
       "      <td>224.224245</td>\n",
       "      <td>223.847805</td>\n",
       "      <td>128</td>\n",
       "    </tr>\n",
       "    <tr>\n",
       "      <th>4</th>\n",
       "      <td>6</td>\n",
       "      <td>1180.045391</td>\n",
       "      <td>1180.042712</td>\n",
       "      <td>3</td>\n",
       "    </tr>\n",
       "  </tbody>\n",
       "</table>\n",
       "</div>"
      ],
      "text/plain": [
       "   user_id  median_pool_age  median_median_users_age  no_of_pool\n",
       "0        1       608.513609              1166.570804          33\n",
       "1        2       996.601809               995.178841         721\n",
       "2        3      1124.764204              1165.762237          12\n",
       "3        5       224.224245               223.847805         128\n",
       "4        6      1180.045391              1180.042712           3"
      ]
     },
     "execution_count": 24,
     "metadata": {},
     "output_type": "execute_result"
    }
   ],
   "source": [
    "#Here we find the median of median of pool age, median of median_users_age, and total number of pool that the user subscribed to \n",
    "liabil_full1=liabil_full.groupby(['user_id']).agg({'pool_age': 'median', 'median_users_age':'median',\n",
    "                                                   'pool_id': 'count'}).reset_index()\n",
    "liabil_full2 = liabil_full1.rename(columns={'pool_age':'median_pool_age', 'median_users_age':'median_median_users_age',\n",
    "                                            'pool_id':'no_of_pool'})\n",
    "liabil_full2.head()"
   ]
  },
  {
   "cell_type": "code",
   "execution_count": 25,
   "metadata": {
    "collapsed": false
   },
   "outputs": [
    {
     "data": {
      "text/html": [
       "<div>\n",
       "<table border=\"1\" class=\"dataframe\">\n",
       "  <thead>\n",
       "    <tr style=\"text-align: right;\">\n",
       "      <th></th>\n",
       "      <th>id</th>\n",
       "      <th>gender</th>\n",
       "    </tr>\n",
       "  </thead>\n",
       "  <tbody>\n",
       "    <tr>\n",
       "      <th>0</th>\n",
       "      <td>77926</td>\n",
       "      <td>None</td>\n",
       "    </tr>\n",
       "    <tr>\n",
       "      <th>1</th>\n",
       "      <td>285265</td>\n",
       "      <td>female</td>\n",
       "    </tr>\n",
       "    <tr>\n",
       "      <th>2</th>\n",
       "      <td>77929</td>\n",
       "      <td>None</td>\n",
       "    </tr>\n",
       "    <tr>\n",
       "      <th>3</th>\n",
       "      <td>285273</td>\n",
       "      <td>male</td>\n",
       "    </tr>\n",
       "    <tr>\n",
       "      <th>4</th>\n",
       "      <td>285282</td>\n",
       "      <td>male</td>\n",
       "    </tr>\n",
       "  </tbody>\n",
       "</table>\n",
       "</div>"
      ],
      "text/plain": [
       "       id  gender\n",
       "0   77926    None\n",
       "1  285265  female\n",
       "2   77929    None\n",
       "3  285273    male\n",
       "4  285282    male"
      ]
     },
     "execution_count": 25,
     "metadata": {},
     "output_type": "execute_result"
    }
   ],
   "source": [
    "con = psycopg2.connect(database = 'ddvklh47a15s65' , user = 'hesamparsa')\n",
    "sql_query = '''\n",
    "Select\n",
    "    users.id, gender\n",
    "FROM\n",
    "    users\n",
    ";'''\n",
    "\n",
    "age=pd.read_sql_query(sql_query,con)\n",
    "age.head()"
   ]
  },
  {
   "cell_type": "code",
   "execution_count": 26,
   "metadata": {
    "collapsed": false
   },
   "outputs": [
    {
     "data": {
      "text/plain": [
       "2.0    28647\n",
       "1.0    24491\n",
       "0.0    16363\n",
       "Name: gender, dtype: int64"
      ]
     },
     "execution_count": 26,
     "metadata": {},
     "output_type": "execute_result"
    }
   ],
   "source": [
    "age['gender1']=age.gender.map({'female':0,'male':1,'None':2})\n",
    "age=age.fillna(2)\n",
    "age1=age.drop('gender', 1)\n",
    "age2 = age1.rename(columns={'id':'user_id', 'gender1':'gender'})\n",
    "age2.gender.value_counts()"
   ]
  },
  {
   "cell_type": "code",
   "execution_count": 27,
   "metadata": {
    "collapsed": false
   },
   "outputs": [
    {
     "data": {
      "text/plain": [
       "False"
      ]
     },
     "execution_count": 27,
     "metadata": {},
     "output_type": "execute_result"
    }
   ],
   "source": [
    "#mereged all the data that we preprocessed\n",
    "mpdata1 = pd.merge(first1,sec1, how='inner', on=['user_id'])\n",
    "mpdata2 = pd.merge(mpdata1,third1, how='left', on=['user_id'])\n",
    "mpdata3 = pd.merge(mpdata2,fourth2, how='left', on=['user_id']).fillna(0)\n",
    "mpdata4 = pd.merge(mpdata3,fifth1, how='left', on=['user_id']).fillna(0)\n",
    "mpdata5 = pd.merge(mpdata4,liabil_full2, how='left', on=['user_id']).fillna(0)\n",
    "mpdata = pd.merge(mpdata5,age2, how='left', on=['user_id']).fillna(0)\n",
    "mpdata['adminity']=mpdata['no_pool_admin']/mpdata['no_of_pool']\n",
    "mpdata = mpdata.fillna(0)\n",
    "mpdata.isnull().values.any()"
   ]
  },
  {
   "cell_type": "code",
   "execution_count": 28,
   "metadata": {
    "collapsed": false
   },
   "outputs": [],
   "source": [
    "variable_string=np.array(['user_id',\n",
    "                 'gender',\n",
    "                 'no_pool_admin','no_of_pool','adminity','median_pool_age','median_median_users_age',\n",
    "                 'days_on_moneypool','no_of_conections',\n",
    "                 'withdraw_payment_date_diff_t','card_updated_time_diff','amount', 'total_attempt', \n",
    "                 'result'])\n",
    "variable_dict = {'user_id':'User ID',\n",
    "                'gender':'Gender',\n",
    "                'no_pool_admin':'No. of Pools Served as Admin', \n",
    "                'no_of_pool':'No. of Pools',\n",
    "                'adminity':'Frequency of Being Admin',\n",
    "                'median_pool_age':'Median of Pool age (days)',\n",
    "                'median_median_users_age':'Median of friends Age(days)',\n",
    "                'days_on_moneypool':'User Age on Moneypool',\n",
    "                'no_of_conections':'No. of Connections',\n",
    "                'withdraw_payment_date_diff_t':'Pay/withdrawal Interval(days)',\n",
    "                'card_updated_time_diff':'Card Update Delay(days)',\n",
    "                'amount':'Total Payment Amount(Mex$)',\n",
    "                'total_attempt':'No. of Attempts to Use a Card',\n",
    "                'result':'Label'}"
   ]
  },
  {
   "cell_type": "code",
   "execution_count": 29,
   "metadata": {
    "collapsed": false
   },
   "outputs": [
    {
     "name": "stdout",
     "output_type": "stream",
     "text": [
      "(25843, 14)\n"
     ]
    }
   ],
   "source": [
    "td = mpdata[variable_string]\n",
    "#data_range = np.arange(2,13)  # Here we choose the range of the data that we want from td\n",
    "data_range=np.array([2,3,4,5,6,7,8,9,10,11,12])\n",
    "variable_dict_name = [variable_dict[x] for x in variable_string[data_range]]\n",
    "X=td.iloc[:,data_range]\n",
    "y=td.iloc[:,len(variable_string)-1:len(variable_string)]\n",
    "# split X and y into training and testing sets\n",
    "from sklearn.cross_validation import train_test_split\n",
    "X_train, X_test, y_train, y_test = train_test_split(X, y, random_state=1)\n",
    "#print(X_train.shape)\n",
    "print(td.shape)"
   ]
  },
  {
   "cell_type": "code",
   "execution_count": 30,
   "metadata": {
    "collapsed": false
   },
   "outputs": [
    {
     "data": {
      "text/plain": [
       "['No. of Pools Served as Admin',\n",
       " 'No. of Pools',\n",
       " 'Frequency of Being Admin',\n",
       " 'Median of Pool age (days)',\n",
       " 'Median of friends Age(days)',\n",
       " 'User Age on Moneypool',\n",
       " 'No. of Connections',\n",
       " 'Pay/withdrawal Interval(days)',\n",
       " 'Card Update Delay(days)',\n",
       " 'Total Payment Amount(Mex$)',\n",
       " 'No. of Attempts to Use a Card']"
      ]
     },
     "execution_count": 30,
     "metadata": {},
     "output_type": "execute_result"
    }
   ],
   "source": [
    "variable_dict_name"
   ]
  },
  {
   "cell_type": "code",
   "execution_count": 31,
   "metadata": {
    "collapsed": false
   },
   "outputs": [
    {
     "data": {
      "text/plain": [
       "(0, 1000)"
      ]
     },
     "execution_count": 31,
     "metadata": {},
     "output_type": "execute_result"
    },
    {
     "data": {
      "image/png": "[encoded data removed]",
      "text/plain": [
       "<matplotlib.figure.Figure at 0x1125b6e80>"
      ]
     },
     "metadata": {},
     "output_type": "display_data"
    }
   ],
   "source": [
    "import matplotlib.cm as cm\n",
    "i=8\n",
    "j=11\n",
    "plt.figure(figsize=(3,2))\n",
    "colors = ['blue','red']\n",
    "cl0=td[td.iloc[:,13]==0].iloc[:,[i,j]]\n",
    "cl1=td[td.iloc[:,13]==1].iloc[:,[i,j]]\n",
    "plt.scatter(cl0.iloc[:, 0],cl0.iloc[:, 1], c=colors[0], alpha = 0.05)\n",
    "plt.scatter(cl1.iloc[:, 0],cl1.iloc[:, 1], c=colors[1], alpha = 0.75)\n",
    "plt.xlabel(variable_dict_name[i-2])\n",
    "plt.ylabel(variable_dict_name[j-2])\n",
    "plt.ylim([0, 50000])\n",
    "plt.xlim([0, 1000])"
   ]
  },
  {
   "cell_type": "code",
   "execution_count": 56,
   "metadata": {
    "collapsed": false
   },
   "outputs": [
    {
     "name": "stderr",
     "output_type": "stream",
     "text": [
      "/Users/hesamparsa/anaconda/envs/my_projects_env/lib/python3.5/site-packages/ipykernel/__main__.py:5: DataConversionWarning: A column-vector y was passed when a 1d array was expected. Please change the shape of y to (n_samples,), for example using ravel().\n",
      "/Users/hesamparsa/anaconda/envs/my_projects_env/lib/python3.5/site-packages/sklearn/utils/validation.py:395: DeprecationWarning: Passing 1d arrays as data is deprecated in 0.17 and will raise ValueError in 0.19. Reshape your data either using X.reshape(-1, 1) if your data has a single feature or X.reshape(1, -1) if it contains a single sample.\n",
      "  DeprecationWarning)\n"
     ]
    }
   ],
   "source": [
    "from sklearn.ensemble import RandomForestClassifier\n",
    "from sklearn import metrics\n",
    "from sklearn.preprocessing import binarize\n",
    "rfclf = RandomForestClassifier(class_weight=\"balanced\", n_estimators=400)\n",
    "rfclf = rfclf.fit(X_train, y_train)\n",
    "y_pred_proba = rfclf.predict_proba(X_test)[:,1]\n",
    "fpr, tpr, thresholds = metrics.roc_curve(y_test, y_pred_proba)\n",
    "y_pred_class=binarize(y_pred_proba,0.015)[0]\n",
    "cnf_matrix = metrics.confusion_matrix(y_test, y_pred_class)"
   ]
  },
  {
   "cell_type": "code",
   "execution_count": 33,
   "metadata": {
    "collapsed": false
   },
   "outputs": [
    {
     "data": {
      "image/png": "[encoded data removed]",
      "text/plain": [
       "<matplotlib.figure.Figure at 0x111dcc710>"
      ]
     },
     "metadata": {},
     "output_type": "display_data"
    }
   ],
   "source": [
    "fig = plt.figure(figsize=(12,4)) \n",
    "ax1 = fig.add_subplot(121)\n",
    "ax1.plot(fpr,tpr,'black',linewidth=2)\n",
    "ax1.set_xlabel(\"False positive rate\", fontsize=12)\n",
    "ax1.set_ylabel(\"True positive rate\", fontsize=12)\n",
    "legname = 'Both'\n",
    "leg = ax1.legend((legname,), loc=4, bbox_to_anchor=(0.86, 0.16))\n",
    "leg.get_frame().set_linewidth(0.0)\n",
    "leg.get_frame().set_facecolor('none')\n",
    "#filename = '/Users/hesamparsa/Desktop/coef/logreg/' + legname + '.png'\n",
    "#fig.savefig(filename, transparent=True)"
   ]
  },
  {
   "cell_type": "code",
   "execution_count": 34,
   "metadata": {
    "collapsed": false
   },
   "outputs": [
    {
     "data": {
      "image/png": "[encoded data removed]",
      "text/plain": [
       "<matplotlib.figure.Figure at 0x112223f60>"
      ]
     },
     "metadata": {},
     "output_type": "display_data"
    }
   ],
   "source": [
    "# Plot the feature importances of the forest\n",
    "importances = rfclf.feature_importances_\n",
    "indices = np.argsort(importances)[::-1]\n",
    "fig = plt.figure(figsize=(4,4)) \n",
    "plt.title(\"Feature importances\")\n",
    "plt.barh(range(X.shape[1]), importances[indices],color=\"grey\", align=\"center\", alpha=0.5)\n",
    "plt.yticks(range(X.shape[1]), variable_dict_name[0:X.shape[1]+1])  \n",
    "#plt.ylim([-1, X.shape[1]])\n",
    "#plt.xlim([0, 0.25])\n",
    "plt.show()"
   ]
  },
  {
   "cell_type": "code",
   "execution_count": null,
   "metadata": {
    "collapsed": false
   },
   "outputs": [],
   "source": [
    "logreg = LogisticRegression(class_weight=\"balanced\")\n",
    "logreg.fit(X_train, y_train)\n",
    "y_pred_proba = logreg.predict_proba(X_test)[:,1]\n",
    "fprlr, tprlr, thresholdslrg = metrics.roc_curve(y_test, y_pred_proba)\n",
    "y_pred_class=binarize(y_pred_proba,0.5)[0]\n",
    "cnf_matrix = metrics.confusion_matrix(y_test, y_pred_class)"
   ]
  },
  {
   "cell_type": "code",
   "execution_count": null,
   "metadata": {
    "collapsed": false
   },
   "outputs": [],
   "source": [
    "# Plot the correlation coeff of log reg\n",
    "logreg_importances=logreg.coef_[0]\n",
    "logreg_importancesn = -logreg.coef_[0]\n",
    "indices = np.argsort(logreg_importances)[::-1]\n",
    "plt.figure()\n",
    "plt.title(\"Correlation Coefficient\")\n",
    "plt.barh(range(X.shape[1]), logreg_importancesn[indices], color=\"grey\", align=\"center\", alpha=0.5)\n",
    "plt.yticks(range(X.shape[1]), variable_dict_name[0:X.shape[1]+1]) \n",
    "#plt.ylim([-1, X.shape[1]])\n",
    "plt.xlim([-5, 0.2])\n",
    "plt.show()"
   ]
  },
  {
   "cell_type": "code",
   "execution_count": 37,
   "metadata": {
    "collapsed": false
   },
   "outputs": [
    {
     "name": "stderr",
     "output_type": "stream",
     "text": [
      "/Users/hesamparsa/anaconda/envs/my_projects_env/lib/python3.5/site-packages/sklearn/utils/validation.py:395: DeprecationWarning: Passing 1d arrays as data is deprecated in 0.17 and will raise ValueError in 0.19. Reshape your data either using X.reshape(-1, 1) if your data has a single feature or X.reshape(1, -1) if it contains a single sample.\n",
      "  DeprecationWarning)\n"
     ]
    }
   ],
   "source": [
    "# cross_validation\n",
    "from sklearn.linear_model import LogisticRegression\n",
    "from sklearn.model_selection import StratifiedKFold\n",
    "from sklearn.model_selection import cross_val_predict\n",
    "from sklearn import metrics\n",
    "from sklearn.preprocessing import binarize\n",
    "logregcv = LogisticRegression(class_weight=\"balanced\")\n",
    "ylist=y.result.tolist()\n",
    "# cross-validation scores\n",
    "y_pred_probacv = cross_val_predict(logregcv, X, ylist, cv=10, method='predict_proba')[:,1]\n",
    "fprlrcv, tprlrcv, thresholdslrcv = metrics.roc_curve(ylist, y_pred_probacv)\n",
    "y_pred_classcv=binarize(y_pred_probacv,0.5)[0]\n",
    "cnf_matrix = metrics.confusion_matrix(ylist, y_pred_classcv)"
   ]
  },
  {
   "cell_type": "code",
   "execution_count": 57,
   "metadata": {
    "collapsed": false
   },
   "outputs": [
    {
     "name": "stdout",
     "output_type": "stream",
     "text": [
      "Confusion matrix, without normalization\n",
      "[[ 0.92  0.08]\n",
      " [ 0.09  0.91]]\n"
     ]
    },
    {
     "data": {
      "image/png": "[encoded data removed]",
      "text/plain": [
       "<matplotlib.figure.Figure at 0x111de6438>"
      ]
     },
     "metadata": {},
     "output_type": "display_data"
    }
   ],
   "source": [
    "total_ok=cnf_matrix[0][0]+cnf_matrix[0][1]\n",
    "total_fraud=cnf_matrix[1][1]+cnf_matrix[1][0]\n",
    "cnfmn=cnf_matrix.astype('float')\n",
    "cnfmn[0][0]=cnf_matrix[0][0]/total_ok\n",
    "cnfmn[0][1]=cnf_matrix[0][1]/total_ok\n",
    "cnfmn[1][0]=cnf_matrix[1][0]/total_fraud\n",
    "cnfmn[1][1]=cnf_matrix[1][1]/total_fraud\n",
    "cnfmn\n",
    "cnfmn[0][0] = float(\"{0:.2f}\".format(cnfmn[0][0]))\n",
    "cnfmn[0][1] = float(\"{0:.2f}\".format(cnfmn[0][1]))\n",
    "cnfmn[1][0] = float(\"{0:.2f}\".format(cnfmn[1][0]))\n",
    "cnfmn[1][1] = float(\"{0:.2f}\".format(cnfmn[1][1]))\n",
    "class_names = ['Regular users', 'Fraudsters']\n",
    "plot_confusion_matrix(cnfmn, classes=class_names, title='Fraud detection')"
   ]
  },
  {
   "cell_type": "code",
   "execution_count": 39,
   "metadata": {
    "collapsed": true
   },
   "outputs": [],
   "source": [
    "def plot_confusion_matrix(cm, classes,\n",
    "                          normalize=False,\n",
    "                          title='Confusion matrix',\n",
    "                          cmap=plt.cm.Blues):\n",
    "    \"\"\"\n",
    "    This function prints and plots the confusion matrix.\n",
    "    Normalization can be applied by setting `normalize=True`.\n",
    "    \"\"\"\n",
    "    \n",
    "    plt.imshow(cm, interpolation='nearest', cmap=cmap)\n",
    "    plt.title(title)\n",
    "    plt.colorbar()\n",
    "    tick_marks = np.arange(len(classes))\n",
    "    plt.xticks(tick_marks, classes, rotation=45)\n",
    "    plt.yticks(tick_marks, classes)\n",
    "\n",
    "    if normalize:\n",
    "        cm = cm.astype('float') / cm.sum(axis=1)[:, np.newaxis]\n",
    "        print(\"Normalized confusion matrix\")\n",
    "    else:\n",
    "        print('Confusion matrix, without normalization')\n",
    "\n",
    "    print(cm)\n",
    "\n",
    "    thresh = cm.max() / 2.\n",
    "    for i, j in itertools.product(range(cm.shape[0]), range(cm.shape[1])):\n",
    "        plt.text(j, i, cm[i, j],\n",
    "                 horizontalalignment=\"center\",\n",
    "                 color=\"white\" if cm[i, j] > thresh else \"black\")\n",
    "\n",
    "    plt.tight_layout()\n",
    "    plt.ylabel('True label')\n",
    "    plt.xlabel('Predicted label')\n",
    "        "
   ]
  },
  {
   "cell_type": "code",
   "execution_count": 40,
   "metadata": {
    "collapsed": false
   },
   "outputs": [
    {
     "name": "stderr",
     "output_type": "stream",
     "text": [
      "/Users/hesamparsa/anaconda/envs/my_projects_env/lib/python3.5/site-packages/ipykernel/__main__.py:4: SettingWithCopyWarning: \n",
      "A value is trying to be set on a copy of a slice from a DataFrame.\n",
      "Try using .loc[row_indexer,col_indexer] = value instead\n",
      "\n",
      "See the caveats in the documentation: http://pandas.pydata.org/pandas-docs/stable/indexing.html#indexing-view-versus-copy\n",
      "/Users/hesamparsa/anaconda/envs/my_projects_env/lib/python3.5/site-packages/ipykernel/__main__.py:5: SettingWithCopyWarning: \n",
      "A value is trying to be set on a copy of a slice from a DataFrame.\n",
      "Try using .loc[row_indexer,col_indexer] = value instead\n",
      "\n",
      "See the caveats in the documentation: http://pandas.pydata.org/pandas-docs/stable/indexing.html#indexing-view-versus-copy\n",
      "/Users/hesamparsa/anaconda/envs/my_projects_env/lib/python3.5/site-packages/ipykernel/__main__.py:6: SettingWithCopyWarning: \n",
      "A value is trying to be set on a copy of a slice from a DataFrame\n",
      "\n",
      "See the caveats in the documentation: http://pandas.pydata.org/pandas-docs/stable/indexing.html#indexing-view-versus-copy\n"
     ]
    }
   ],
   "source": [
    "df=td\n",
    "probdf=pd.DataFrame(y_pred_proba,columns=['prob'])\n",
    "classdf=pd.DataFrame(y_pred_class,columns=['pred class'])\n",
    "df['prob']=probdf['prob']\n",
    "df['pred class']=classdf['pred class']\n",
    "df.sort_values(['prob'], ascending=False, inplace=True)\n",
    "df.to_csv('alldata.csv')"
   ]
  },
  {
   "cell_type": "code",
   "execution_count": 54,
   "metadata": {
    "collapsed": false
   },
   "outputs": [],
   "source": [
    "risky = df.loc[(df['pred class']==1)]\n",
    "risky.to_csv('risky.csv')"
   ]
  },
  {
   "cell_type": "code",
   "execution_count": 55,
   "metadata": {
    "collapsed": false
   },
   "outputs": [
    {
     "data": {
      "text/plain": [
       "(611, 16)"
      ]
     },
     "execution_count": 55,
     "metadata": {},
     "output_type": "execute_result"
    }
   ],
   "source": [
    "risky.shape"
   ]
  },
  {
   "cell_type": "code",
   "execution_count": 42,
   "metadata": {
    "collapsed": false
   },
   "outputs": [],
   "source": [
    "con = psycopg2.connect(database = 'ddvklh47a15s65' , user = 'hesamparsa')\n",
    "sql_query = '''\n",
    "Select\n",
    "    user_id,\n",
    "    pool_id\n",
    "FROM\n",
    "    liabilities\n",
    ";'''\n",
    "\n",
    "p=pd.read_sql_query(sql_query,con)\n",
    "p.to_csv('pooldata.csv')"
   ]
  },
  {
   "cell_type": "code",
   "execution_count": 43,
   "metadata": {
    "collapsed": false
   },
   "outputs": [
    {
     "data": {
      "image/png": "[encoded data removed]",
      "text/plain": [
       "<matplotlib.figure.Figure at 0x111e8bb70>"
      ]
     },
     "metadata": {},
     "output_type": "display_data"
    }
   ],
   "source": [
    "import random\n",
    "from matplotlib.colors import cnames\n",
    "userid=90968\n",
    "sp=p.loc[(p['user_id'] == userid)].pool_id.tolist()\n",
    "counter=0\n",
    "index_user=0\n",
    "su=[]\n",
    "G=[]\n",
    "G=nx.Graph()\n",
    "ncolor=[]\n",
    "lsu=[]\n",
    "nlist=[]\n",
    "#mlist=[]\n",
    "for i in range(0, len(sp)):\n",
    "    su=p.loc[(p['pool_id'] == sp[i])].user_id.tolist()    \n",
    "    lsu.append(su)\n",
    "ulsu=np.unique(lsu)\n",
    "for i in range(0, len(ulsu)):\n",
    "    color_index = random.randrange(0,150)\n",
    "    for j in range(0, len(ulsu[i])):\n",
    "        G.add_node(counter, user_id = ulsu[i][j])\n",
    "        ncolor.append(list(cnames.keys())[color_index])\n",
    "        nlist.append(counter)\n",
    "        counter+=1\n",
    "    if ([userid] == ulsu[i]):\n",
    "        index_user = (counter-1)\n",
    "    G.add_edges_from(list(itertools.combinations(nlist, 2)))\n",
    "    #mlist.append(nlist)\n",
    "    nlist=[]\n",
    "ncolor[index_user]='Red'\n",
    "G.add_edges_from(list(itertools.product([index_user], np.arange(counter))))\n",
    "pos = nx.spring_layout(G)\n",
    "ax=nx.draw_networkx_edges(G, pos, width = 0.5, alpha=0.8);\n",
    "nx.draw_networkx_nodes(G, pos, node_size=1000, node_color = ncolor, alpha=0.7);\n",
    "nx.draw_networkx_labels(G, pos, font_size = 15,font_color ='white', font_family = 'sans-serif');\n",
    "plt.axis('off');"
   ]
  }
 ],
 "metadata": {
  "anaconda-cloud": {},
  "kernelspec": {
   "display_name": "Python [my_projects_env]",
   "language": "python",
   "name": "Python [my_projects_env]"
  },
  "language_info": {
   "codemirror_mode": {
    "name": "ipython",
    "version": 3
   },
   "file_extension": ".py",
   "mimetype": "text/x-python",
   "name": "python",
   "nbconvert_exporter": "python",
   "pygments_lexer": "ipython3",
   "version": "3.5.2"
  }
 },
 "nbformat": 4,
 "nbformat_minor": 0
}
